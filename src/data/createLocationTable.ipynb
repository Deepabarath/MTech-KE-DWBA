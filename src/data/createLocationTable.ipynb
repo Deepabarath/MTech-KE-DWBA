{
 "cells": [
  {
   "cell_type": "code",
   "execution_count": 1,
   "metadata": {
    "collapsed": false
   },
   "outputs": [],
   "source": [
    "import pandas as pd\n",
    "import numpy as np\n",
    "\n",
    "import fiona\n",
    "import shapely.geometry\n",
    "\n",
    "# https://github.com/cgcai/SVY21/tree/master/Python\n",
    "import SVY21"
   ]
  },
  {
   "cell_type": "code",
   "execution_count": 2,
   "metadata": {
    "collapsed": false
   },
   "outputs": [
    {
     "data": {
      "text/html": [
       "<div>\n",
       "<table border=\"1\" class=\"dataframe\">\n",
       "  <thead>\n",
       "    <tr style=\"text-align: right;\">\n",
       "      <th></th>\n",
       "      <th>car_park_no</th>\n",
       "      <th>address</th>\n",
       "      <th>x_coord</th>\n",
       "      <th>y_coord</th>\n",
       "      <th>car_park_type</th>\n",
       "      <th>type_of_parking_system</th>\n",
       "      <th>short_term_parking</th>\n",
       "      <th>free_parking</th>\n",
       "      <th>night_parking</th>\n",
       "      <th>park_and_ride_scheme</th>\n",
       "      <th>region</th>\n",
       "      <th>latitude</th>\n",
       "      <th>longitude</th>\n",
       "      <th>regionID</th>\n",
       "    </tr>\n",
       "  </thead>\n",
       "  <tbody>\n",
       "    <tr>\n",
       "      <th>0</th>\n",
       "      <td>ACB</td>\n",
       "      <td>BLK 270/271 ALBERT CENTRE BASEMENT CAR PARK</td>\n",
       "      <td>30314.7936</td>\n",
       "      <td>31490.4942</td>\n",
       "      <td>BASEMENT CAR PARK</td>\n",
       "      <td>ELECTRONIC PARKING</td>\n",
       "      <td>WHOLE DAY</td>\n",
       "      <td>NO</td>\n",
       "      <td>YES</td>\n",
       "      <td>NO</td>\n",
       "      <td></td>\n",
       "      <td></td>\n",
       "      <td></td>\n",
       "      <td></td>\n",
       "    </tr>\n",
       "    <tr>\n",
       "      <th>1</th>\n",
       "      <td>ACM</td>\n",
       "      <td>BLK 98A ALJUNIED CRESCENT</td>\n",
       "      <td>33758.4143</td>\n",
       "      <td>33695.5198</td>\n",
       "      <td>MULTI-STOREY CAR PARK</td>\n",
       "      <td>ELECTRONIC PARKING</td>\n",
       "      <td>WHOLE DAY</td>\n",
       "      <td>SUN &amp; PH FR 7AM-10.30PM</td>\n",
       "      <td>YES</td>\n",
       "      <td>NO</td>\n",
       "      <td></td>\n",
       "      <td></td>\n",
       "      <td></td>\n",
       "      <td></td>\n",
       "    </tr>\n",
       "    <tr>\n",
       "      <th>2</th>\n",
       "      <td>AH1</td>\n",
       "      <td>BLK 101 JALAN DUSUN</td>\n",
       "      <td>29257.7203</td>\n",
       "      <td>34500.3599</td>\n",
       "      <td>SURFACE CAR PARK</td>\n",
       "      <td>ELECTRONIC PARKING</td>\n",
       "      <td>WHOLE DAY</td>\n",
       "      <td>SUN &amp; PH FR 7AM-10.30PM</td>\n",
       "      <td>YES</td>\n",
       "      <td>NO</td>\n",
       "      <td></td>\n",
       "      <td></td>\n",
       "      <td></td>\n",
       "      <td></td>\n",
       "    </tr>\n",
       "    <tr>\n",
       "      <th>3</th>\n",
       "      <td>AK19</td>\n",
       "      <td>BLOCK 253 ANG MO KIO STREET 21</td>\n",
       "      <td>28185.4359</td>\n",
       "      <td>39012.6664</td>\n",
       "      <td>SURFACE CAR PARK</td>\n",
       "      <td>COUPON PARKING</td>\n",
       "      <td>7AM-7PM</td>\n",
       "      <td>NO</td>\n",
       "      <td>NO</td>\n",
       "      <td>NO</td>\n",
       "      <td></td>\n",
       "      <td></td>\n",
       "      <td></td>\n",
       "      <td></td>\n",
       "    </tr>\n",
       "    <tr>\n",
       "      <th>4</th>\n",
       "      <td>AK31</td>\n",
       "      <td>BLK 302/348 ANG MO KIO ST 31</td>\n",
       "      <td>29482.0290</td>\n",
       "      <td>38684.1754</td>\n",
       "      <td>SURFACE CAR PARK</td>\n",
       "      <td>COUPON PARKING</td>\n",
       "      <td>NO</td>\n",
       "      <td>NO</td>\n",
       "      <td>NO</td>\n",
       "      <td>NO</td>\n",
       "      <td></td>\n",
       "      <td></td>\n",
       "      <td></td>\n",
       "      <td></td>\n",
       "    </tr>\n",
       "  </tbody>\n",
       "</table>\n",
       "</div>"
      ],
      "text/plain": [
       "  car_park_no                                      address     x_coord  \\\n",
       "0         ACB  BLK 270/271 ALBERT CENTRE BASEMENT CAR PARK  30314.7936   \n",
       "1         ACM                    BLK 98A ALJUNIED CRESCENT  33758.4143   \n",
       "2         AH1                          BLK 101 JALAN DUSUN  29257.7203   \n",
       "3        AK19               BLOCK 253 ANG MO KIO STREET 21  28185.4359   \n",
       "4        AK31                 BLK 302/348 ANG MO KIO ST 31  29482.0290   \n",
       "\n",
       "      y_coord          car_park_type type_of_parking_system  \\\n",
       "0  31490.4942      BASEMENT CAR PARK     ELECTRONIC PARKING   \n",
       "1  33695.5198  MULTI-STOREY CAR PARK     ELECTRONIC PARKING   \n",
       "2  34500.3599       SURFACE CAR PARK     ELECTRONIC PARKING   \n",
       "3  39012.6664       SURFACE CAR PARK         COUPON PARKING   \n",
       "4  38684.1754       SURFACE CAR PARK         COUPON PARKING   \n",
       "\n",
       "  short_term_parking             free_parking night_parking  \\\n",
       "0          WHOLE DAY                       NO           YES   \n",
       "1          WHOLE DAY  SUN & PH FR 7AM-10.30PM           YES   \n",
       "2          WHOLE DAY  SUN & PH FR 7AM-10.30PM           YES   \n",
       "3            7AM-7PM                       NO            NO   \n",
       "4                 NO                       NO            NO   \n",
       "\n",
       "  park_and_ride_scheme region latitude longitude regionID  \n",
       "0                   NO                                     \n",
       "1                   NO                                     \n",
       "2                   NO                                     \n",
       "3                   NO                                     \n",
       "4                   NO                                     "
      ]
     },
     "execution_count": 2,
     "metadata": {},
     "output_type": "execute_result"
    }
   ],
   "source": [
    "# HDB Carpark information \n",
    "# https://data.gov.sg/dataset/hdb-carpark-information \n",
    "\n",
    "df = pd.read_csv(\"hdb-carpark-information.csv\")\n",
    "df['region'] = \"\"\n",
    "df['latitude'] = \"\"\n",
    "df['longitude'] = \"\"\n",
    "df['regionID'] = \"\"\n",
    "df.head()\n"
   ]
  },
  {
   "cell_type": "code",
   "execution_count": 3,
   "metadata": {
    "collapsed": false
   },
   "outputs": [],
   "source": [
    "# Extract the five regions from the map\n",
    "# https://data.gov.sg/dataset/master-plan-2014-region-boundary-no-sea\n",
    "\n",
    "shape=[]\n",
    "region=[]\n",
    "with fiona.open(\"MP14/MP14_REGION_NO_SEA_PL.shp\") as fiona_collection:\n",
    "    for i in range(0,5):\n",
    "        shape.append(shapely.geometry.asShape(fiona_collection[i]['geometry']))\n",
    "        region.append(fiona_collection[i]['properties'][u'REGION_N'].split()[0])\n"
   ]
  },
  {
   "cell_type": "code",
   "execution_count": 4,
   "metadata": {
    "collapsed": false
   },
   "outputs": [
    {
     "data": {
      "text/plain": [
       "(u'CENTRAL', u'EAST', u'NORTH', u'NORTH-EAST', u'WEST')"
      ]
     },
     "execution_count": 4,
     "metadata": {},
     "output_type": "execute_result"
    }
   ],
   "source": [
    "region[0], region[1], region[2], region[3], region[4]\n"
   ]
  },
  {
   "cell_type": "code",
   "execution_count": 6,
   "metadata": {
    "collapsed": false
   },
   "outputs": [],
   "source": [
    "# Initialize SVY21 to convert SVY21 coordinates to WGS84 latitude and longitude\n",
    "cv = SVY21.SVY21()\n",
    "\n",
    "\n",
    "# 0=\"Singapore\", 1=\"North\", 2=\"North-East\", 3=\"East\", 4=\"Central\", 5=\"West\".\n",
    "translate = [4,3,1,2,5]\n",
    "\n",
    "# For each HDB carpark location, locate which section of Singapore\n",
    "for index, row in df.iterrows():\n",
    "    point = shapely.geometry.Point(row['x_coord'],row['y_coord'])\n",
    "    \n",
    "    # convert SVY21 coordinates to longitude and latitude\n",
    "    \n",
    "    lat, lon = cv.computeLatLon(row['x_coord'],row['y_coord'])\n",
    "    df.loc[index,'latitude']=lat\n",
    "    df.loc[index,'longitude']=lon\n",
    "    \n",
    "    # determin which of 5 regions, the carpark belongs to\n",
    "    \n",
    "    for i in range(0,5):\n",
    "        if point.within(shape[i]):\n",
    "            df.loc[index,'region']=region[i]\n",
    "            df.loc[index,'regionId']=translate[i]\n",
    "            \n"
   ]
  },
  {
   "cell_type": "code",
   "execution_count": 7,
   "metadata": {
    "collapsed": false
   },
   "outputs": [
    {
     "data": {
      "text/html": [
       "<div>\n",
       "<table border=\"1\" class=\"dataframe\">\n",
       "  <thead>\n",
       "    <tr style=\"text-align: right;\">\n",
       "      <th></th>\n",
       "      <th>car_park_no</th>\n",
       "      <th>address</th>\n",
       "      <th>x_coord</th>\n",
       "      <th>y_coord</th>\n",
       "      <th>car_park_type</th>\n",
       "      <th>type_of_parking_system</th>\n",
       "      <th>short_term_parking</th>\n",
       "      <th>free_parking</th>\n",
       "      <th>night_parking</th>\n",
       "      <th>park_and_ride_scheme</th>\n",
       "      <th>region</th>\n",
       "      <th>latitude</th>\n",
       "      <th>longitude</th>\n",
       "      <th>regionID</th>\n",
       "      <th>regionId</th>\n",
       "    </tr>\n",
       "  </thead>\n",
       "  <tbody>\n",
       "    <tr>\n",
       "      <th>0</th>\n",
       "      <td>ACB</td>\n",
       "      <td>BLK 270/271 ALBERT CENTRE BASEMENT CAR PARK</td>\n",
       "      <td>30314.7936</td>\n",
       "      <td>31490.4942</td>\n",
       "      <td>BASEMENT CAR PARK</td>\n",
       "      <td>ELECTRONIC PARKING</td>\n",
       "      <td>WHOLE DAY</td>\n",
       "      <td>NO</td>\n",
       "      <td>YES</td>\n",
       "      <td>NO</td>\n",
       "      <td>CENTRAL</td>\n",
       "      <td>1.29043</td>\n",
       "      <td>103.865</td>\n",
       "      <td></td>\n",
       "      <td>4</td>\n",
       "    </tr>\n",
       "    <tr>\n",
       "      <th>1</th>\n",
       "      <td>ACM</td>\n",
       "      <td>BLK 98A ALJUNIED CRESCENT</td>\n",
       "      <td>33758.4143</td>\n",
       "      <td>33695.5198</td>\n",
       "      <td>MULTI-STOREY CAR PARK</td>\n",
       "      <td>ELECTRONIC PARKING</td>\n",
       "      <td>WHOLE DAY</td>\n",
       "      <td>SUN &amp; PH FR 7AM-10.30PM</td>\n",
       "      <td>YES</td>\n",
       "      <td>NO</td>\n",
       "      <td>CENTRAL</td>\n",
       "      <td>1.32157</td>\n",
       "      <td>103.884</td>\n",
       "      <td></td>\n",
       "      <td>4</td>\n",
       "    </tr>\n",
       "    <tr>\n",
       "      <th>2</th>\n",
       "      <td>AH1</td>\n",
       "      <td>BLK 101 JALAN DUSUN</td>\n",
       "      <td>29257.7203</td>\n",
       "      <td>34500.3599</td>\n",
       "      <td>SURFACE CAR PARK</td>\n",
       "      <td>ELECTRONIC PARKING</td>\n",
       "      <td>WHOLE DAY</td>\n",
       "      <td>SUN &amp; PH FR 7AM-10.30PM</td>\n",
       "      <td>YES</td>\n",
       "      <td>NO</td>\n",
       "      <td>CENTRAL</td>\n",
       "      <td>1.28087</td>\n",
       "      <td>103.892</td>\n",
       "      <td></td>\n",
       "      <td>4</td>\n",
       "    </tr>\n",
       "    <tr>\n",
       "      <th>3</th>\n",
       "      <td>AK19</td>\n",
       "      <td>BLOCK 253 ANG MO KIO STREET 21</td>\n",
       "      <td>28185.4359</td>\n",
       "      <td>39012.6664</td>\n",
       "      <td>SURFACE CAR PARK</td>\n",
       "      <td>COUPON PARKING</td>\n",
       "      <td>7AM-7PM</td>\n",
       "      <td>NO</td>\n",
       "      <td>NO</td>\n",
       "      <td>NO</td>\n",
       "      <td>NORTH-EAST</td>\n",
       "      <td>1.27117</td>\n",
       "      <td>103.932</td>\n",
       "      <td></td>\n",
       "      <td>2</td>\n",
       "    </tr>\n",
       "    <tr>\n",
       "      <th>4</th>\n",
       "      <td>AK31</td>\n",
       "      <td>BLK 302/348 ANG MO KIO ST 31</td>\n",
       "      <td>29482.0290</td>\n",
       "      <td>38684.1754</td>\n",
       "      <td>SURFACE CAR PARK</td>\n",
       "      <td>COUPON PARKING</td>\n",
       "      <td>NO</td>\n",
       "      <td>NO</td>\n",
       "      <td>NO</td>\n",
       "      <td>NO</td>\n",
       "      <td>NORTH-EAST</td>\n",
       "      <td>1.2829</td>\n",
       "      <td>103.929</td>\n",
       "      <td></td>\n",
       "      <td>2</td>\n",
       "    </tr>\n",
       "  </tbody>\n",
       "</table>\n",
       "</div>"
      ],
      "text/plain": [
       "  car_park_no                                      address     x_coord  \\\n",
       "0         ACB  BLK 270/271 ALBERT CENTRE BASEMENT CAR PARK  30314.7936   \n",
       "1         ACM                    BLK 98A ALJUNIED CRESCENT  33758.4143   \n",
       "2         AH1                          BLK 101 JALAN DUSUN  29257.7203   \n",
       "3        AK19               BLOCK 253 ANG MO KIO STREET 21  28185.4359   \n",
       "4        AK31                 BLK 302/348 ANG MO KIO ST 31  29482.0290   \n",
       "\n",
       "      y_coord          car_park_type type_of_parking_system  \\\n",
       "0  31490.4942      BASEMENT CAR PARK     ELECTRONIC PARKING   \n",
       "1  33695.5198  MULTI-STOREY CAR PARK     ELECTRONIC PARKING   \n",
       "2  34500.3599       SURFACE CAR PARK     ELECTRONIC PARKING   \n",
       "3  39012.6664       SURFACE CAR PARK         COUPON PARKING   \n",
       "4  38684.1754       SURFACE CAR PARK         COUPON PARKING   \n",
       "\n",
       "  short_term_parking             free_parking night_parking  \\\n",
       "0          WHOLE DAY                       NO           YES   \n",
       "1          WHOLE DAY  SUN & PH FR 7AM-10.30PM           YES   \n",
       "2          WHOLE DAY  SUN & PH FR 7AM-10.30PM           YES   \n",
       "3            7AM-7PM                       NO            NO   \n",
       "4                 NO                       NO            NO   \n",
       "\n",
       "  park_and_ride_scheme      region latitude longitude regionID  regionId  \n",
       "0                   NO     CENTRAL  1.29043   103.865                  4  \n",
       "1                   NO     CENTRAL  1.32157   103.884                  4  \n",
       "2                   NO     CENTRAL  1.28087   103.892                  4  \n",
       "3                   NO  NORTH-EAST  1.27117   103.932                  2  \n",
       "4                   NO  NORTH-EAST   1.2829   103.929                  2  "
      ]
     },
     "execution_count": 7,
     "metadata": {},
     "output_type": "execute_result"
    }
   ],
   "source": [
    "df.head()"
   ]
  },
  {
   "cell_type": "code",
   "execution_count": 8,
   "metadata": {
    "collapsed": false
   },
   "outputs": [
    {
     "data": {
      "text/plain": [
       "region\n",
       "CENTRAL       604\n",
       "EAST          314\n",
       "NORTH         247\n",
       "NORTH-EAST    426\n",
       "WEST          439\n",
       "dtype: int64"
      ]
     },
     "execution_count": 8,
     "metadata": {},
     "output_type": "execute_result"
    }
   ],
   "source": [
    "df.groupby('region').size()"
   ]
  },
  {
   "cell_type": "code",
   "execution_count": 11,
   "metadata": {
    "collapsed": false
   },
   "outputs": [],
   "source": [
    "df[['address','latitude','longitude', 'regionId']].to_csv(\"location.csv\", encoding='utf-8', index_col=True, header=False)"
   ]
  },
  {
   "cell_type": "code",
   "execution_count": null,
   "metadata": {
    "collapsed": true
   },
   "outputs": [],
   "source": []
  },
  {
   "cell_type": "code",
   "execution_count": null,
   "metadata": {
    "collapsed": true
   },
   "outputs": [],
   "source": []
  }
 ],
 "metadata": {
  "kernelspec": {
   "display_name": "Python 2",
   "language": "python",
   "name": "python2"
  },
  "language_info": {
   "codemirror_mode": {
    "name": "ipython",
    "version": 2
   },
   "file_extension": ".py",
   "mimetype": "text/x-python",
   "name": "python",
   "nbconvert_exporter": "python",
   "pygments_lexer": "ipython2",
   "version": "2.7.12"
  }
 },
 "nbformat": 4,
 "nbformat_minor": 0
}
