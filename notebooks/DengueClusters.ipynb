{
 "cells": [
  {
   "cell_type": "code",
   "execution_count": 1,
   "metadata": {
    "collapsed": false
   },
   "outputs": [],
   "source": [
    "import numpy as np\n",
    "import pandas as pd\n",
    "import matplotlib.pyplot as plt\n",
    "import seaborn as sns\n",
    "import os\n",
    "%matplotlib inline"
   ]
  },
  {
   "cell_type": "code",
   "execution_count": 3,
   "metadata": {
    "collapsed": false
   },
   "outputs": [
    {
     "data": {
      "text/html": [
       "<div>\n",
       "<table border=\"1\" class=\"dataframe\">\n",
       "  <thead>\n",
       "    <tr style=\"text-align: right;\">\n",
       "      <th></th>\n",
       "      <th>Latitude</th>\n",
       "      <th>Longitude</th>\n",
       "      <th>NumberOfCases</th>\n",
       "      <th>Address</th>\n",
       "      <th>RegionId</th>\n",
       "    </tr>\n",
       "    <tr>\n",
       "      <th>date</th>\n",
       "      <th></th>\n",
       "      <th></th>\n",
       "      <th></th>\n",
       "      <th></th>\n",
       "      <th></th>\n",
       "    </tr>\n",
       "  </thead>\n",
       "  <tbody>\n",
       "    <tr>\n",
       "      <th>2016-01-01</th>\n",
       "      <td>1.346572</td>\n",
       "      <td>103.933637</td>\n",
       "      <td>1</td>\n",
       "      <td>Tampines Avenue 1 (Blk 890B)</td>\n",
       "      <td>3</td>\n",
       "    </tr>\n",
       "    <tr>\n",
       "      <th>2016-01-01</th>\n",
       "      <td>1.349751</td>\n",
       "      <td>103.934421</td>\n",
       "      <td>2</td>\n",
       "      <td>Tampines Avenue 3</td>\n",
       "      <td>3</td>\n",
       "    </tr>\n",
       "    <tr>\n",
       "      <th>2016-01-01</th>\n",
       "      <td>1.351617</td>\n",
       "      <td>103.941330</td>\n",
       "      <td>81</td>\n",
       "      <td>Tampines Avenue 4</td>\n",
       "      <td>3</td>\n",
       "    </tr>\n",
       "  </tbody>\n",
       "</table>\n",
       "</div>"
      ],
      "text/plain": [
       "            Latitude   Longitude NumberOfCases                       Address  \\\n",
       "date                                                                           \n",
       "2016-01-01  1.346572  103.933637             1  Tampines Avenue 1 (Blk 890B)   \n",
       "2016-01-01  1.349751  103.934421             2             Tampines Avenue 3   \n",
       "2016-01-01  1.351617  103.941330            81             Tampines Avenue 4   \n",
       "\n",
       "            RegionId  \n",
       "date                  \n",
       "2016-01-01         3  \n",
       "2016-01-01         3  \n",
       "2016-01-01         3  "
      ]
     },
     "execution_count": 3,
     "metadata": {},
     "output_type": "execute_result"
    }
   ],
   "source": [
    "link = \"../Data/processed/deague cases.csv\"\n",
    "# data frame\n",
    "dfDengueCluster = pd.read_csv(link, index_col='date', parse_dates=True, dayfirst=True)\n",
    "dfDengueCluster.head(3)"
   ]
  },
  {
   "cell_type": "code",
   "execution_count": 4,
   "metadata": {
    "collapsed": false
   },
   "outputs": [
    {
     "data": {
      "text/html": [
       "<div>\n",
       "<table border=\"1\" class=\"dataframe\">\n",
       "  <thead>\n",
       "    <tr style=\"text-align: right;\">\n",
       "      <th></th>\n",
       "      <th>Latitude</th>\n",
       "      <th>Longitude</th>\n",
       "      <th>RegionId</th>\n",
       "    </tr>\n",
       "  </thead>\n",
       "  <tbody>\n",
       "    <tr>\n",
       "      <th>count</th>\n",
       "      <td>76813.000000</td>\n",
       "      <td>76813.000000</td>\n",
       "      <td>76813.000000</td>\n",
       "    </tr>\n",
       "    <tr>\n",
       "      <th>mean</th>\n",
       "      <td>1.355151</td>\n",
       "      <td>103.864773</td>\n",
       "      <td>2.909872</td>\n",
       "    </tr>\n",
       "    <tr>\n",
       "      <th>std</th>\n",
       "      <td>0.039447</td>\n",
       "      <td>0.056435</td>\n",
       "      <td>1.168202</td>\n",
       "    </tr>\n",
       "    <tr>\n",
       "      <th>min</th>\n",
       "      <td>1.269953</td>\n",
       "      <td>103.620552</td>\n",
       "      <td>1.000000</td>\n",
       "    </tr>\n",
       "    <tr>\n",
       "      <th>25%</th>\n",
       "      <td>1.321994</td>\n",
       "      <td>103.826170</td>\n",
       "      <td>2.000000</td>\n",
       "    </tr>\n",
       "    <tr>\n",
       "      <th>50%</th>\n",
       "      <td>1.352083</td>\n",
       "      <td>103.869896</td>\n",
       "      <td>3.000000</td>\n",
       "    </tr>\n",
       "    <tr>\n",
       "      <th>75%</th>\n",
       "      <td>1.369929</td>\n",
       "      <td>103.906224</td>\n",
       "      <td>4.000000</td>\n",
       "    </tr>\n",
       "    <tr>\n",
       "      <th>max</th>\n",
       "      <td>1.462452</td>\n",
       "      <td>103.973141</td>\n",
       "      <td>5.000000</td>\n",
       "    </tr>\n",
       "  </tbody>\n",
       "</table>\n",
       "</div>"
      ],
      "text/plain": [
       "           Latitude     Longitude      RegionId\n",
       "count  76813.000000  76813.000000  76813.000000\n",
       "mean       1.355151    103.864773      2.909872\n",
       "std        0.039447      0.056435      1.168202\n",
       "min        1.269953    103.620552      1.000000\n",
       "25%        1.321994    103.826170      2.000000\n",
       "50%        1.352083    103.869896      3.000000\n",
       "75%        1.369929    103.906224      4.000000\n",
       "max        1.462452    103.973141      5.000000"
      ]
     },
     "execution_count": 4,
     "metadata": {},
     "output_type": "execute_result"
    }
   ],
   "source": [
    "dfDengueCluster.describe()"
   ]
  },
  {
   "cell_type": "code",
   "execution_count": 6,
   "metadata": {
    "collapsed": false
   },
   "outputs": [
    {
     "data": {
      "text/html": [
       "<div>\n",
       "<table border=\"1\" class=\"dataframe\">\n",
       "  <thead>\n",
       "    <tr style=\"text-align: right;\">\n",
       "      <th></th>\n",
       "      <th>Year</th>\n",
       "      <th>WW</th>\n",
       "      <th>Month</th>\n",
       "      <th>Max_Humidity_Percentage</th>\n",
       "      <th>Mean_Humidity_Percentage</th>\n",
       "      <th>Min_Humidity_Percentage</th>\n",
       "      <th>LocationId</th>\n",
       "    </tr>\n",
       "    <tr>\n",
       "      <th>Date</th>\n",
       "      <th></th>\n",
       "      <th></th>\n",
       "      <th></th>\n",
       "      <th></th>\n",
       "      <th></th>\n",
       "      <th></th>\n",
       "      <th></th>\n",
       "    </tr>\n",
       "  </thead>\n",
       "  <tbody>\n",
       "    <tr>\n",
       "      <th>2016-01-01</th>\n",
       "      <td>2016</td>\n",
       "      <td>1</td>\n",
       "      <td>1</td>\n",
       "      <td>100</td>\n",
       "      <td>84</td>\n",
       "      <td>64</td>\n",
       "      <td>12</td>\n",
       "    </tr>\n",
       "    <tr>\n",
       "      <th>2016-02-01</th>\n",
       "      <td>2016</td>\n",
       "      <td>1</td>\n",
       "      <td>1</td>\n",
       "      <td>100</td>\n",
       "      <td>90</td>\n",
       "      <td>82</td>\n",
       "      <td>12</td>\n",
       "    </tr>\n",
       "    <tr>\n",
       "      <th>2016-03-01</th>\n",
       "      <td>2016</td>\n",
       "      <td>2</td>\n",
       "      <td>1</td>\n",
       "      <td>100</td>\n",
       "      <td>92</td>\n",
       "      <td>83</td>\n",
       "      <td>12</td>\n",
       "    </tr>\n",
       "  </tbody>\n",
       "</table>\n",
       "</div>"
      ],
      "text/plain": [
       "            Year  WW  Month  Max_Humidity_Percentage  \\\n",
       "Date                                                   \n",
       "2016-01-01  2016   1      1                      100   \n",
       "2016-02-01  2016   1      1                      100   \n",
       "2016-03-01  2016   2      1                      100   \n",
       "\n",
       "            Mean_Humidity_Percentage  Min_Humidity_Percentage  LocationId  \n",
       "Date                                                                       \n",
       "2016-01-01                        84                       64          12  \n",
       "2016-02-01                        90                       82          12  \n",
       "2016-03-01                        92                       83          12  "
      ]
     },
     "execution_count": 6,
     "metadata": {},
     "output_type": "execute_result"
    }
   ],
   "source": [
    "link = \"../Data/processed/Humidity.csv\"\n",
    "# data frame\n",
    "dfHumidity = pd.read_csv(link, index_col='Date', parse_dates=True, dayfirst=True)\n",
    "dfHumidity.head(3)"
   ]
  },
  {
   "cell_type": "code",
   "execution_count": 7,
   "metadata": {
    "collapsed": false
   },
   "outputs": [
    {
     "data": {
      "text/html": [
       "<div>\n",
       "<table border=\"1\" class=\"dataframe\">\n",
       "  <thead>\n",
       "    <tr style=\"text-align: right;\">\n",
       "      <th></th>\n",
       "      <th>Year</th>\n",
       "      <th>WW</th>\n",
       "      <th>Month</th>\n",
       "      <th>Max_Humidity_Percentage</th>\n",
       "      <th>Mean_Humidity_Percentage</th>\n",
       "      <th>Min_Humidity_Percentage</th>\n",
       "      <th>LocationId</th>\n",
       "    </tr>\n",
       "  </thead>\n",
       "  <tbody>\n",
       "    <tr>\n",
       "      <th>count</th>\n",
       "      <td>804.0</td>\n",
       "      <td>804.000000</td>\n",
       "      <td>804.000000</td>\n",
       "      <td>804.000000</td>\n",
       "      <td>804.000000</td>\n",
       "      <td>804.000000</td>\n",
       "      <td>804.000000</td>\n",
       "    </tr>\n",
       "    <tr>\n",
       "      <th>mean</th>\n",
       "      <td>2016.0</td>\n",
       "      <td>20.354478</td>\n",
       "      <td>4.917910</td>\n",
       "      <td>89.886816</td>\n",
       "      <td>74.935323</td>\n",
       "      <td>56.621891</td>\n",
       "      <td>31.333333</td>\n",
       "    </tr>\n",
       "    <tr>\n",
       "      <th>std</th>\n",
       "      <td>0.0</td>\n",
       "      <td>11.059894</td>\n",
       "      <td>2.539497</td>\n",
       "      <td>4.981248</td>\n",
       "      <td>5.826106</td>\n",
       "      <td>7.952776</td>\n",
       "      <td>13.776488</td>\n",
       "    </tr>\n",
       "    <tr>\n",
       "      <th>min</th>\n",
       "      <td>2016.0</td>\n",
       "      <td>1.000000</td>\n",
       "      <td>1.000000</td>\n",
       "      <td>74.000000</td>\n",
       "      <td>59.000000</td>\n",
       "      <td>37.000000</td>\n",
       "      <td>12.000000</td>\n",
       "    </tr>\n",
       "    <tr>\n",
       "      <th>25%</th>\n",
       "      <td>2016.0</td>\n",
       "      <td>11.000000</td>\n",
       "      <td>3.000000</td>\n",
       "      <td>89.000000</td>\n",
       "      <td>71.000000</td>\n",
       "      <td>52.000000</td>\n",
       "      <td>12.000000</td>\n",
       "    </tr>\n",
       "    <tr>\n",
       "      <th>50%</th>\n",
       "      <td>2016.0</td>\n",
       "      <td>20.000000</td>\n",
       "      <td>5.000000</td>\n",
       "      <td>89.000000</td>\n",
       "      <td>75.000000</td>\n",
       "      <td>56.000000</td>\n",
       "      <td>39.000000</td>\n",
       "    </tr>\n",
       "    <tr>\n",
       "      <th>75%</th>\n",
       "      <td>2016.0</td>\n",
       "      <td>30.000000</td>\n",
       "      <td>7.000000</td>\n",
       "      <td>94.000000</td>\n",
       "      <td>79.000000</td>\n",
       "      <td>62.000000</td>\n",
       "      <td>43.000000</td>\n",
       "    </tr>\n",
       "    <tr>\n",
       "      <th>max</th>\n",
       "      <td>2016.0</td>\n",
       "      <td>39.000000</td>\n",
       "      <td>9.000000</td>\n",
       "      <td>100.000000</td>\n",
       "      <td>95.000000</td>\n",
       "      <td>84.000000</td>\n",
       "      <td>43.000000</td>\n",
       "    </tr>\n",
       "  </tbody>\n",
       "</table>\n",
       "</div>"
      ],
      "text/plain": [
       "         Year          WW       Month  Max_Humidity_Percentage  \\\n",
       "count   804.0  804.000000  804.000000               804.000000   \n",
       "mean   2016.0   20.354478    4.917910                89.886816   \n",
       "std       0.0   11.059894    2.539497                 4.981248   \n",
       "min    2016.0    1.000000    1.000000                74.000000   \n",
       "25%    2016.0   11.000000    3.000000                89.000000   \n",
       "50%    2016.0   20.000000    5.000000                89.000000   \n",
       "75%    2016.0   30.000000    7.000000                94.000000   \n",
       "max    2016.0   39.000000    9.000000               100.000000   \n",
       "\n",
       "       Mean_Humidity_Percentage  Min_Humidity_Percentage  LocationId  \n",
       "count                804.000000               804.000000  804.000000  \n",
       "mean                  74.935323                56.621891   31.333333  \n",
       "std                    5.826106                 7.952776   13.776488  \n",
       "min                   59.000000                37.000000   12.000000  \n",
       "25%                   71.000000                52.000000   12.000000  \n",
       "50%                   75.000000                56.000000   39.000000  \n",
       "75%                   79.000000                62.000000   43.000000  \n",
       "max                   95.000000                84.000000   43.000000  "
      ]
     },
     "execution_count": 7,
     "metadata": {},
     "output_type": "execute_result"
    }
   ],
   "source": [
    "dfHumidity.describe()"
   ]
  },
  {
   "cell_type": "code",
   "execution_count": 8,
   "metadata": {
    "collapsed": false
   },
   "outputs": [
    {
     "data": {
      "text/plain": [
       "<matplotlib.axes._subplots.AxesSubplot at 0x1127109e8>"
      ]
     },
     "execution_count": 8,
     "metadata": {},
     "output_type": "execute_result"
    },
    {
     "data": {
      "image/png": "[encoded data removed]",
      "text/plain": [
       "<matplotlib.figure.Figure at 0x117a636d8>"
      ]
     },
     "metadata": {},
     "output_type": "display_data"
    }
   ],
   "source": [
    "dfHumidity['Mean_Humidity_Percentage'].plot()"
   ]
  },
  {
   "cell_type": "code",
   "execution_count": 13,
   "metadata": {
    "collapsed": false
   },
   "outputs": [
    {
     "data": {
      "text/plain": [
       "<matplotlib.axes._subplots.AxesSubplot at 0x118879240>"
      ]
     },
     "execution_count": 13,
     "metadata": {},
     "output_type": "execute_result"
    },
    {
     "data": {
      "image/png": "[encoded data removed]",
      "text/plain": [
       "<matplotlib.figure.Figure at 0x11888b9b0>"
      ]
     },
     "metadata": {},
     "output_type": "display_data"
    }
   ],
   "source": [
    "dfHumidityMonth = pd.read_csv(link, index_col='Month')\n",
    "dfHumidityMonth['Mean_Humidity_Percentage'].plot()"
   ]
  },
  {
   "cell_type": "code",
   "execution_count": null,
   "metadata": {
    "collapsed": true
   },
   "outputs": [],
   "source": []
  }
 ],
 "metadata": {
  "anaconda-cloud": {},
  "kernelspec": {
   "display_name": "Python [Root]",
   "language": "python",
   "name": "Python [Root]"
  },
  "language_info": {
   "codemirror_mode": {
    "name": "ipython",
    "version": 3
   },
   "file_extension": ".py",
   "mimetype": "text/x-python",
   "name": "python",
   "nbconvert_exporter": "python",
   "pygments_lexer": "ipython3",
   "version": "3.5.2"
  }
 },
 "nbformat": 4,
 "nbformat_minor": 0
}
